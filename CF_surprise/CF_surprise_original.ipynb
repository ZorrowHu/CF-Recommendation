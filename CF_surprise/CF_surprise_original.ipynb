{
 "cells": [
  {
   "cell_type": "markdown",
   "metadata": {},
   "source": [
    "### 基于Surprise的推荐系统"
   ]
  },
  {
   "cell_type": "markdown",
   "metadata": {},
   "source": [
    "在推荐系统的建模过程中，我们将用到python库 [Surprise(Simple Python RecommendatIon System Engine)](https://github.com/NicolasHug/Surprise)，是scikit系列中的一个(很多同学用过scikit-learn和scikit-image等库)。\n",
    "\n",
    "### 简单易用，同时支持多种推荐算法：\n",
    "* [基础算法/baseline algorithms](http://surprise.readthedocs.io/en/stable/basic_algorithms.html)\n",
    "* [基于近邻方法(协同过滤)/neighborhood methods](http://surprise.readthedocs.io/en/stable/knn_inspired.html)\n",
    "* [矩阵分解方法/matrix factorization-based (SVD, PMF, SVD++, NMF)](http://surprise.readthedocs.io/en/stable/matrix_factorization.html#surprise.prediction_algorithms.matrix_factorization.SVD)\n",
    "\n",
    "| 算法类名        | 说明  |\n",
    "| ------------- |:-----|\n",
    "|[random_pred.NormalPredictor](http://surprise.readthedocs.io/en/stable/basic_algorithms.html#surprise.prediction_algorithms.random_pred.NormalPredictor)|Algorithm predicting a random rating based on the distribution of the training set, which is assumed to be normal.|\n",
    "|[baseline_only.BaselineOnly](http://surprise.readthedocs.io/en/stable/basic_algorithms.html#surprise.prediction_algorithms.baseline_only.BaselineOnly)|Algorithm predicting the baseline estimate for given user and item.|\n",
    "|[knns.KNNBasic](http://surprise.readthedocs.io/en/stable/knn_inspired.html#surprise.prediction_algorithms.knns.KNNBasic)|A basic collaborative filtering algorithm.|\n",
    "|[knns.KNNWithMeans](http://surprise.readthedocs.io/en/stable/knn_inspired.html#surprise.prediction_algorithms.knns.KNNWithMeans)|A basic collaborative filtering algorithm, taking into account the mean ratings of each user.|\n",
    "|[knns.KNNBaseline](http://surprise.readthedocs.io/en/stable/knn_inspired.html#surprise.prediction_algorithms.knns.KNNBaseline)|A basic collaborative filtering algorithm taking into account a baseline rating.|\t\n",
    "|[matrix_factorization.SVD](http://surprise.readthedocs.io/en/stable/matrix_factorization.html#surprise.prediction_algorithms.matrix_factorization.SVD)|The famous SVD algorithm, as popularized by Simon Funk during the Netflix Prize.|\n",
    "|[matrix_factorization.SVDpp](http://surprise.readthedocs.io/en/stable/matrix_factorization.html#surprise.prediction_algorithms.matrix_factorization.SVDpp)|The SVD++ algorithm, an extension of SVD taking into account implicit ratings.|\n",
    "|[matrix_factorization.NMF](http://surprise.readthedocs.io/en/stable/matrix_factorization.html#surprise.prediction_algorithms.matrix_factorization.NMF)|A collaborative filtering algorithm based on Non-negative Matrix Factorization.|\n",
    "|[slope_one.SlopeOne](http://surprise.readthedocs.io/en/stable/slope_one.html#surprise.prediction_algorithms.slope_one.SlopeOne)|A simple yet accurate collaborative filtering algorithm.|\n",
    "|[co_clustering.CoClustering](http://surprise.readthedocs.io/en/stable/co_clustering.html#surprise.prediction_algorithms.co_clustering.CoClustering)|A collaborative filtering algorithm based on co-clustering.|"
   ]
  },
  {
   "cell_type": "markdown",
   "metadata": {},
   "source": [
    "### 其中基于近邻的方法(协同过滤)可以设定不同的度量准则。\n",
    "\n",
    "| 相似度度量标准 | 度量标准说明  |\n",
    "| ------------- |:-----|\n",
    "|[cosine](http://surprise.readthedocs.io/en/stable/similarities.html#surprise.similarities.cosine)|Compute the cosine similarity between all pairs of users (or items).|\n",
    "|[msd](http://surprise.readthedocs.io/en/stable/similarities.html#surprise.similarities.msd)|Compute the Mean Squared Difference similarity between all pairs of users (or items).|\n",
    "|[pearson](http://surprise.readthedocs.io/en/stable/similarities.html#surprise.similarities.pearson)|Compute the Pearson correlation coefficient between all pairs of users (or items).|\n",
    "|[pearson_baseline](http://surprise.readthedocs.io/en/stable/similarities.html#surprise.similarities.pearson_baseline)|Compute the (shrunk) Pearson correlation coefficient between all pairs of users (or items) using baselines for centering instead of means.|"
   ]
  },
  {
   "cell_type": "markdown",
   "metadata": {},
   "source": [
    "### 支持不同的评估准则\n",
    "| 评估准则 | 准则说明  |\n",
    "| ------------- |:-----|\n",
    "|[rmse](http://surprise.readthedocs.io/en/stable/accuracy.html#surprise.accuracy.rmse)|Compute RMSE (Root Mean Squared Error).|\n",
    "|[mae](http://surprise.readthedocs.io/en/stable/accuracy.html#surprise.accuracy.mae)|Compute MAE (Mean Absolute Error).|\n",
    "|[fcp](http://surprise.readthedocs.io/en/stable/accuracy.html#surprise.accuracy.fcp)|Compute FCP (Fraction of Concordant Pairs)协调比例.|"
   ]
  },
  {
   "cell_type": "markdown",
   "metadata": {},
   "source": [
    "使用movielens数据集做测试，推荐与某个电影相似的top-N的电影。 \n",
    "MovieLens数据集是一个关于电影评分的数据集，里面包含了从IMDB, The Movie DataBase上面得到的用户对电影的评分信息。 \n",
    "数据集大小:100000 ratings by 943 users on 1682 items。"
   ]
  },
  {
   "cell_type": "code",
   "execution_count": 1,
   "metadata": {},
   "outputs": [],
   "source": [
    "import io\n",
    "from surprise import KNNBaseline\n",
    "from surprise import Dataset, Reader"
   ]
  },
  {
   "cell_type": "markdown",
   "metadata": {},
   "source": [
    "在代码中，需要做从电影id到电影名字的映射，其中，rid：raw_id也就是每部电影所对应的原始id号。而在训练计算皮尔逊相关系数矩阵的时候，又将每部电影进行了id映射，也就是代码中的to_inner_iid()就是讲raw_id转换到相似性矩阵的inner_id。之后计算近邻，得到的inner_id 要将其转换为具体的电影名字，同样需要通过raw_id作为中介进行转换。"
   ]
  },
  {
   "cell_type": "code",
   "execution_count": 2,
   "metadata": {},
   "outputs": [],
   "source": [
    "def read_iter_names():\n",
    "    # 获取电影名到id和id到电影名的映射\n",
    "    # Input: u.item格式：电影编号|电影名字|评分|url\n",
    "    # Return: rid_2_name {}; map rating movie id to movie name\n",
    "    #         name_2_rid {}: map movie name to rating movie id\n",
    "    item_file = 'ml-100k/u.item'\n",
    "    rid_2_name = {}\n",
    "    name_2_rid = {}\n",
    "    with io.open(item_file, 'r', encoding='ISO-8859-1') as f:\n",
    "        for line in f:\n",
    "            line = line.split('|')\n",
    "            rid_2_name[line[0]] = line[1]\n",
    "            name_2_rid[line[1]] = line[0]\n",
    "    return rid_2_name, name_2_rid"
   ]
  },
  {
   "cell_type": "code",
   "execution_count": 17,
   "metadata": {},
   "outputs": [],
   "source": [
    "# u.data数据格式为 user item rating timestamp；\n",
    "reader = Reader(line_format='user item rating timestamp', sep='\\t')\n",
    "file_path = 'ml-100k'\n",
    "# user id | item id | rating | timestamp.\n",
    "data = Dataset.load_from_file(file_path=file_path + '/u.data', reader=reader)\n",
    "print('data size is', data.)\n",
    "train_set = data.build_full_trainset()"
   ]
  },
  {
   "cell_type": "markdown",
   "metadata": {},
   "source": [
    "在这里使用KNNBaseline()\n",
    ">surprise.prediction_algorithms.knns.KNNBaseline(k=40, min_k=1, sim_options={}, bsl_options={}, verbose=True, **kwargs)\n",
    "- k（int） - 聚合时要考虑的（最大）邻居数（参见本注释）。 默认值为40。\n",
    "- min_k（int） - 聚合时要考虑的最小邻居数。 如果没有足够的邻居，则将邻居聚合设置为零。 默认值为1。\n",
    "- sim_options（dict):相似性度量的选项字典。 请参阅[相似性度量配置](http://surprise.readthedocs.io/en/stable/prediction_algorithms.html#similarity-measures-configuration)。 建议使用pearson_baseline相似性度量。\n",
    "  - sim_sim_options()中的选项\n",
    "    - 'name'：相似性模块中定义的相似性度量的名称。 默认为'MSD'。\n",
    "    - 'user_based'：是否在用户之间或项目之间计算相似性。 这对预测算法的性能有很大影响。 默认为True。\n",
    "    - 'min_support'：公共项的最小数量（当'user_based'为'True'时）或最小公共用户数（当'user_based'为'False'时），相似度不为零。 \n",
    "    - 'shrinkage'：要应用的收缩参数（仅与pearson_baseline相似性相关）。 默认值为100。\n",
    "- bsl_options（dict):基线估计计算的选项字典。 请参阅基准估计接受选项的配置。\n",
    "- verbose（bool):是否打印偏差估计，相似性等的跟踪消息。默认为True。\n",
    "对sim_options()解释"
   ]
  },
  {
   "cell_type": "markdown",
   "metadata": {},
   "source": [
    "### 基于物品的协同过滤"
   ]
  },
  {
   "cell_type": "code",
   "execution_count": 22,
   "metadata": {},
   "outputs": [
    {
     "name": "stdout",
     "output_type": "stream",
     "text": [
      "Estimating biases using als...\n",
      "Computing the pearson_baseline similarity matrix...\n",
      "Done computing similarity matrix.\n"
     ]
    },
    {
     "data": {
      "text/plain": [
       "<surprise.prediction_algorithms.knns.KNNBaseline at 0x1f17b4c2128>"
      ]
     },
     "execution_count": 22,
     "metadata": {},
     "output_type": "execute_result"
    }
   ],
   "source": [
    "sim_options = {'name': 'pearson_baseline', 'user_based': False}\n",
    "# 基本的协同滤波算法\n",
    "item_baesd = KNNBaseline(sim_options=sim_options)\n",
    "item_baesd.fit(train_set)"
   ]
  },
  {
   "cell_type": "code",
   "execution_count": 34,
   "metadata": {},
   "outputs": [],
   "source": [
    "# 获取id对应的电影名列表，由于中途涉及一个id转换，所以要双向\n",
    "rid_2_name, name_2_rid = read_iter_names()"
   ]
  },
  {
   "cell_type": "code",
   "execution_count": 35,
   "metadata": {},
   "outputs": [],
   "source": [
    "# raw-id映射到内部id\n",
    "toy_story_raw_id = name_2_rid['Toy Story (1995)']\n",
    "toy_story_inner_id = item_baesd.trainset.to_inner_iid(toy_story_raw_id)"
   ]
  },
  {
   "cell_type": "code",
   "execution_count": 36,
   "metadata": {},
   "outputs": [],
   "source": [
    "# 获取toy story对应的内部id 并由此取得其对应的k个近邻 k个近邻对应的也是内部id\n",
    "toy_story_neighbors = item_baesd.get_neighbors(toy_story_inner_id, k=10)\n"
   ]
  },
  {
   "cell_type": "code",
   "execution_count": 37,
   "metadata": {},
   "outputs": [],
   "source": [
    "# 近邻内部id转换为对应的名字\n",
    "toy_story_neighbors = (item_baesd.trainset.to_raw_iid(inner_id)\n",
    "                       for inner_id in toy_story_neighbors)\n",
    "toy_story_neighbors = (rid_2_name[rid] for rid in toy_story_neighbors)"
   ]
  },
  {
   "cell_type": "code",
   "execution_count": 38,
   "metadata": {},
   "outputs": [
    {
     "name": "stdout",
     "output_type": "stream",
     "text": [
      "基于物品的推荐（皮尔逊相似计算得到）与Forrest Gump相近的十个电影为：\n",
      "\n",
      "Field of Dreams (1989)\n",
      "Firm, The (1993)\n",
      "It's a Wonderful Life (1946)\n",
      "Braveheart (1995)\n",
      "Dances with Wolves (1990)\n",
      "Shawshank Redemption, The (1994)\n",
      "Top Gun (1986)\n",
      "In the Line of Fire (1993)\n",
      "Fugitive, The (1993)\n",
      "Pinocchio (1940)\n"
     ]
    }
   ],
   "source": [
    "print('基于物品的推荐（皮尔逊相似计算得到）与toy story相近的十个电影为：\\n')\n",
    "for moives in toy_story_neighbors:\n",
    "    print(moives)"
   ]
  },
  {
   "cell_type": "markdown",
   "metadata": {},
   "source": [
    "### 基于用户的协同过滤"
   ]
  },
  {
   "cell_type": "code",
   "execution_count": 40,
   "metadata": {},
   "outputs": [
    {
     "name": "stdout",
     "output_type": "stream",
     "text": [
      "Estimating biases using als...\n",
      "Computing the pearson_baseline similarity matrix...\n",
      "Done computing similarity matrix.\n",
      "基于用户的推荐（皮尔逊相似计算得到）与toy story相近的十个电影为：\n",
      "\n",
      "Matilda (1996)\n",
      "Striking Distance (1993)\n",
      "My Fellow Americans (1996)\n",
      "Relic, The (1997)\n",
      "Under Siege (1992)\n",
      "House of Yes, The (1997)\n",
      "Foreign Correspondent (1940)\n",
      "Last Supper, The (1995)\n",
      "Get Shorty (1995)\n",
      "Basic Instinct (1992)\n"
     ]
    }
   ],
   "source": [
    "sim_options = {'name': 'pearson_baseline'}\n",
    "user_based = KNNBaseline(sim_options=sim_options)\n",
    "user_based.fit(train_set)\n",
    "\n",
    "rid_2_name, name_2_rid = read_iter_names()\n",
    "\n",
    "\n",
    "# raw-id映射到内部id\n",
    "toy_story_raw_id = name_2_rid['Toy Story (1995)']\n",
    "toy_story_inner_id = user_based.trainset.to_inner_iid(toy_story_raw_id)\n",
    "\n",
    "# 获取toy story对应的内部id 并由此取得其对应的k个近邻 k个近邻对应的也是内部id\n",
    "toy_story_neighbors = user_based.get_neighbors(toy_story_inner_id, k=10)\n",
    "\n",
    "# 近邻内部id转换为对应的名字\n",
    "toy_story_neighbors = (user_based.trainset.to_raw_iid(inner_id)\n",
    "                       for inner_id in toy_story_neighbors)\n",
    "toy_story_neighbors = (rid_2_name[rid] for rid in toy_story_neighbors)\n",
    "\n",
    "print('基于用户的推荐（皮尔逊相似计算得到）与toy story相近的十个电影为：\\n')\n",
    "for moives in toy_story_neighbors:\n",
    "    print(moives)"
   ]
  },
  {
   "cell_type": "code",
   "execution_count": null,
   "metadata": {},
   "outputs": [],
   "source": []
  }
 ],
 "metadata": {
  "kernelspec": {
   "display_name": "Python 3",
   "language": "python",
   "name": "python3"
  },
  "language_info": {
   "codemirror_mode": {
    "name": "ipython",
    "version": 3
   },
   "file_extension": ".py",
   "mimetype": "text/x-python",
   "name": "python",
   "nbconvert_exporter": "python",
   "pygments_lexer": "ipython3",
   "version": "3.6.5"
  }
 },
 "nbformat": 4,
 "nbformat_minor": 2
}
